{
 "cells": [
  {
   "cell_type": "markdown",
   "id": "7d2accd3",
   "metadata": {},
   "source": [
    "# Answer no.1"
   ]
  },
  {
   "cell_type": "code",
   "execution_count": null,
   "id": "2c8a0dff",
   "metadata": {},
   "outputs": [],
   "source": [
    "-Indentation Error happens during when we code something and the\" spaces\" are not placed accordingly or allinged properly.\n",
    "-without proper indentation the execution of code will give error and \n",
    "the output will show particularly where or in which line we made mistake and the indentation error occured. \n",
    "-It is important to\" indicate a block of code\"."
   ]
  },
  {
   "cell_type": "markdown",
   "id": "0484139c",
   "metadata": {},
   "source": [
    "# EXAMPLE"
   ]
  },
  {
   "cell_type": "code",
   "execution_count": 1,
   "id": "c062efbe",
   "metadata": {},
   "outputs": [
    {
     "name": "stdout",
     "output_type": "stream",
     "text": [
      "Biswaranjan is a student of iNeuron\n"
     ]
    }
   ],
   "source": [
    "A = \"biswaranjan study in iNeuron\"\n",
    "if  A:\n",
    "  print(\"Biswaranjan is a student of iNeuron\")\n",
    "else:\n",
    "  print(\"He is a Boy\")"
   ]
  },
  {
   "cell_type": "code",
   "execution_count": 11,
   "id": "d07bed81",
   "metadata": {},
   "outputs": [
    {
     "name": "stdout",
     "output_type": "stream",
     "text": [
      "Biswaranjan is a student of iNeuron\n"
     ]
    }
   ],
   "source": [
    "A = \"biswaranjan study in iNeuron\"\n",
    "if  A:\n",
    "    print(\"Biswaranjan is a student of iNeuron\")\n",
    "else:\n",
    "    print(\"He is a Boy\")"
   ]
  },
  {
   "cell_type": "markdown",
   "id": "89adc1b9",
   "metadata": {},
   "source": [
    "# Answer no.2"
   ]
  },
  {
   "cell_type": "code",
   "execution_count": 50,
   "id": "38fa4270",
   "metadata": {},
   "outputs": [
    {
     "name": "stdout",
     "output_type": "stream",
     "text": [
      "Hey friend, is class started?: [0/1]1\n",
      "Since class started...\n",
      "Lets concentrate\n"
     ]
    }
   ],
   "source": [
    "class_started = bool(input(\"Hey friend, is class started?: [0/1]\"))\n",
    "\n",
    "if class_started:\n",
    "   print(\"Since class started...\")\n",
    "   print(\"Lets concentrate\")\n",
    "else:\n",
    "   print(\"Since class is not started...\")\n",
    "   print(\"let's revise\")    "
   ]
  },
  {
   "cell_type": "markdown",
   "id": "939c260e",
   "metadata": {},
   "source": [
    "# Answer no. 3"
   ]
  },
  {
   "cell_type": "code",
   "execution_count": 9,
   "id": "4db4ba02",
   "metadata": {},
   "outputs": [
    {
     "name": "stdout",
     "output_type": "stream",
     "text": [
      "Enter the value of B: 40+7j\n",
      "data type before: <class 'str'>, value of a: 40+7j\n"
     ]
    }
   ],
   "source": [
    "B = str(input(\"Enter the value of B: \"))\n",
    "\n",
    "if str(B):\n",
    "    print(f\"data type before: {type(B)}, value of a: {B}\")\n",
    "else:\n",
    "    print(f\"neither string nor integer:{type(B)}, value of a: {B}\")"
   ]
  },
  {
   "cell_type": "markdown",
   "id": "6a84f649",
   "metadata": {},
   "source": [
    "# Answer.4"
   ]
  },
  {
   "cell_type": "code",
   "execution_count": 13,
   "id": "bae0b8df",
   "metadata": {},
   "outputs": [
    {
     "name": "stdout",
     "output_type": "stream",
     "text": [
      "The largest number is 100\n"
     ]
    }
   ],
   "source": [
    "a=40\n",
    "b=70\n",
    "c=100\n",
    "if (a > b) and (a > c):\n",
    "    largest = a\n",
    "if (b > a) and (b > c):\n",
    "    largest = b\n",
    "else:\n",
    "    largest=c\n",
    "print(\"The largest number is\", largest)"
   ]
  },
  {
   "cell_type": "code",
   "execution_count": 16,
   "id": "4e0b7531",
   "metadata": {},
   "outputs": [
    {
     "name": "stdout",
     "output_type": "stream",
     "text": [
      "500\n",
      "The largest number:\n"
     ]
    }
   ],
   "source": [
    "a = 50\n",
    "b = 120\n",
    "c = int(input())\n",
    "if (c>b):\n",
    "    print(\"The largest number:\")\n",
    "else:\n",
    "    print(\"smaller number:\")"
   ]
  },
  {
   "cell_type": "code",
   "execution_count": null,
   "id": "34d7ea2d",
   "metadata": {},
   "outputs": [],
   "source": [
    "a=40\n",
    "b=70\n",
    "c=100\n",
    "largest = c>b \n"
   ]
  },
  {
   "cell_type": "markdown",
   "id": "d17d6705",
   "metadata": {},
   "source": [
    "# Answer.5"
   ]
  },
  {
   "cell_type": "code",
   "execution_count": 16,
   "id": "7ca23f48",
   "metadata": {},
   "outputs": [
    {
     "name": "stdout",
     "output_type": "stream",
     "text": [
      "False\n"
     ]
    }
   ],
   "source": [
    "a = 6\n",
    "b = 10\n",
    "print( not ( not a == 10 or not b == 10) )"
   ]
  },
  {
   "cell_type": "markdown",
   "id": "c4b53341",
   "metadata": {},
   "source": [
    "# Answer.6"
   ]
  },
  {
   "cell_type": "code",
   "execution_count": 60,
   "id": "0f2bc2f7",
   "metadata": {},
   "outputs": [
    {
     "name": "stdout",
     "output_type": "stream",
     "text": [
      "False\n"
     ]
    }
   ],
   "source": [
    "A = 5.0\n",
    "B = 10/2\n",
    "print(A is B)"
   ]
  },
  {
   "cell_type": "code",
   "execution_count": 61,
   "id": "35a08d66",
   "metadata": {},
   "outputs": [
    {
     "data": {
      "text/plain": [
       "2475331506320"
      ]
     },
     "execution_count": 61,
     "metadata": {},
     "output_type": "execute_result"
    }
   ],
   "source": [
    "id(A)"
   ]
  },
  {
   "cell_type": "code",
   "execution_count": 62,
   "id": "98b8f02d",
   "metadata": {},
   "outputs": [
    {
     "data": {
      "text/plain": [
       "2475330513328"
      ]
     },
     "execution_count": 62,
     "metadata": {},
     "output_type": "execute_result"
    }
   ],
   "source": [
    "id(B)"
   ]
  },
  {
   "cell_type": "code",
   "execution_count": 65,
   "id": "105b9d03",
   "metadata": {},
   "outputs": [
    {
     "name": "stdout",
     "output_type": "stream",
     "text": [
      "True\n"
     ]
    }
   ],
   "source": [
    "A = 5.0\n",
    "B = 10/2\n",
    "print(A is not B)"
   ]
  },
  {
   "cell_type": "code",
   "execution_count": null,
   "id": "9cb6760e",
   "metadata": {},
   "outputs": [],
   "source": [
    "-The reason why these two variables are not same because A and B do not points to same objects.\n",
    "-some decimal numbers or floats do not have an exact representation in a binary system."
   ]
  },
  {
   "cell_type": "markdown",
   "id": "4950d569",
   "metadata": {},
   "source": [
    "# Answer no.7"
   ]
  },
  {
   "cell_type": "code",
   "execution_count": 92,
   "id": "1c7d522b",
   "metadata": {},
   "outputs": [
    {
     "name": "stdout",
     "output_type": "stream",
     "text": [
      "Enter your number:3\n",
      "3 is not divisible by 3 or 5\n"
     ]
    }
   ],
   "source": [
    "a=int(input(\"Enter your number:\"))\n",
    "if(a//3==0) and (a//5==0):\n",
    "    print(\"{} is divisible by 3 \".format(a))\n",
    "    print(\"{} is divisible by 5 \".format(a))\n",
    "else:\n",
    "    print(\"{} is not divisible by 3 or 5\".format(a))"
   ]
  },
  {
   "cell_type": "markdown",
   "id": "41b9b6e9",
   "metadata": {},
   "source": [
    "# Answer no.9"
   ]
  },
  {
   "cell_type": "code",
   "execution_count": 98,
   "id": "8a1e1248",
   "metadata": {},
   "outputs": [
    {
     "name": "stdout",
     "output_type": "stream",
     "text": [
      "Please enter the radius of the given circle: 1\n",
      "please enter the radius of the given circle2\n",
      " which circle is large area : 3.14\n"
     ]
    }
   ],
   "source": [
    "pi = 3.14  \n",
    "Radius_1 = float (input (\"Please enter the radius of the given circle: \"))\n",
    "Radius_2 = float (input(\"please enter the radius of the given circle\"))\n",
    "area_of_the_circle_1 = pi * Radius_1 * Radius_1\n",
    "area_of_the_circle_2 =  pi * Radius_2 * Radius_2\n",
    "print (\" which circle is large area :\", area_of_the_circle)\n"
   ]
  },
  {
   "cell_type": "code",
   "execution_count": null,
   "id": "3256337d",
   "metadata": {},
   "outputs": [],
   "source": []
  },
  {
   "cell_type": "code",
   "execution_count": null,
   "id": "f49313ef",
   "metadata": {},
   "outputs": [],
   "source": []
  },
  {
   "cell_type": "code",
   "execution_count": null,
   "id": "a2336d23",
   "metadata": {},
   "outputs": [],
   "source": [
    "\n"
   ]
  }
 ],
 "metadata": {
  "kernelspec": {
   "display_name": "Python 3 (ipykernel)",
   "language": "python",
   "name": "python3"
  },
  "language_info": {
   "codemirror_mode": {
    "name": "ipython",
    "version": 3
   },
   "file_extension": ".py",
   "mimetype": "text/x-python",
   "name": "python",
   "nbconvert_exporter": "python",
   "pygments_lexer": "ipython3",
   "version": "3.9.12"
  }
 },
 "nbformat": 4,
 "nbformat_minor": 5
}
